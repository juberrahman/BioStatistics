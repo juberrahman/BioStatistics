{
  "nbformat": 4,
  "nbformat_minor": 0,
  "metadata": {
    "colab": {
      "name": "A4.ipynb",
      "provenance": [],
      "authorship_tag": "ABX9TyNlM3SykYTny1F1KITNSw1Q",
      "include_colab_link": true
    },
    "kernelspec": {
      "name": "python3",
      "display_name": "Python 3"
    }
  },
  "cells": [
    {
      "cell_type": "markdown",
      "metadata": {
        "id": "view-in-github",
        "colab_type": "text"
      },
      "source": [
        "<a href=\"https://colab.research.google.com/github/juberrahman/BioStatistics/blob/master/A4.ipynb\" target=\"_parent\"><img src=\"https://colab.research.google.com/assets/colab-badge.svg\" alt=\"Open In Colab\"/></a>"
      ]
    },
    {
      "cell_type": "code",
      "metadata": {
        "id": "Me9UV1GgT7kd",
        "colab_type": "code",
        "colab": {}
      },
      "source": [
        "#helllo Juber"
      ],
      "execution_count": 0,
      "outputs": []
    }
  ]
}